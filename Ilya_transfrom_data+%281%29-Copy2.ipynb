{
 "cells": [
  {
   "cell_type": "code",
   "execution_count": 5,
   "metadata": {
    "collapsed": false
   },
   "outputs": [],
   "source": [
    "import pandas as pd\n",
    "import numpy as np\n",
    "from sklearn.cross_validation import train_test_split\n",
    "from sklearn.metrics import accuracy_score\n",
    "import matplotlib.pyplot as plt\n",
    "%matplotlib inline\n",
    "\n",
    "import xgboost"
   ]
  },
  {
   "cell_type": "code",
   "execution_count": 6,
   "metadata": {
    "collapsed": true
   },
   "outputs": [],
   "source": [
    "# летний сезон\n",
    "# по сумме растрат   user_to_season_payment\n",
    "# по txn    user_to_season_txn\n",
    "\n",
    "money_train = pd.read_csv(\"qiwi_money_out_data_train.csv\", encoding='windows-1251',  delimiter=';')\n",
    "money_train[:3]\n",
    "users = np.unique(np.asarray(money_train.user_id))\n",
    "user_to_season_txn = {}\n",
    "user_to_season_payment = {}\n",
    "\n",
    "for i in money_train.iterrows():\n",
    "    if i[1].date_month == '2016-06' or i[1].date_month == '2016-07' or i[1].date_month == '2016-08':\n",
    "        if i[1].user_id in user_to_season_txn:\n",
    "            user_to_season_txn[i[1].user_id] += i[1].txn_count\n",
    "            user_to_season_payment[i[1].user_id] += i[1].payment\n",
    "        else:\n",
    "            user_to_season_txn[i[1].user_id] = i[1].txn_count\n",
    "            user_to_season_payment[i[1].user_id] = i[1].payment\n",
    "    else:\n",
    "        if  not (i[1].user_id in user_to_season_txn):\n",
    "            user_to_season_txn[i[1].user_id] = 0\n",
    "            user_to_season_payment[i[1].user_id] = 0\n",
    "#user_to_season_payment"
   ]
  },
  {
   "cell_type": "code",
   "execution_count": 7,
   "metadata": {
    "collapsed": true
   },
   "outputs": [],
   "source": [
    "#Средний разовый платеж\n",
    "# словарь dict_one_payment\n",
    "\n",
    "money_train = pd.read_csv(\"qiwi_money_out_data_train.csv\", encoding='windows-1251',  delimiter=';')\n",
    "dict_one_payment = dict.fromkeys(['user_id', 'f6'])\n",
    "\n",
    "for i in users:\n",
    "    user = money_train[money_train['user_id'] == i]\n",
    "    dict_one_payment[i] = np.average(user.payment / user.txn_count)\n",
    "\n",
    "#dict_one_payment"
   ]
  },
  {
   "cell_type": "code",
   "execution_count": 8,
   "metadata": {
    "collapsed": false
   },
   "outputs": [],
   "source": [
    "money_train = pd.read_csv('qiwi_money_out_data_train.csv', encoding='windows-1251', delimiter=';')\n",
    "answer_train = pd.read_csv('qiwi_users_profile_data_train.csv', encoding='windows-1251', delimiter=';')\n",
    "money_test = pd.read_csv('qiwi_money_out_data_test.csv', encoding='windows-1251', delimiter=';')\n",
    "answer_test = pd.read_csv('qiwi_users_profile_data_test.csv', encoding='windows-1251', delimiter=';')"
   ]
  },
  {
   "cell_type": "code",
   "execution_count": 15,
   "metadata": {
    "collapsed": false
   },
   "outputs": [],
   "source": [
    "#дисперсия\n",
    "#Big_dic\n",
    "users = np.unique(np.asarray(money_train.user_id))\n",
    "money_train = pd.read_csv(\"qiwi_money_out_data_train.csv\", encoding='windows-1251',  delimiter=';')\n",
    "Women_profile = pd.read_csv('women_profiles.csv')\n",
    "version_with_sexes = money_train\n",
    "\n",
    "mas = []\n",
    "for j in ['2016-06', '2016-07', '2016-08', '2016-09', '2016-10', '2016-11', '2016-12']:\n",
    "    date_6 = version_with_sexes[version_with_sexes.date_month == j]\n",
    "    D_date_6 = {}\n",
    "    for i in date_6.iterrows():\n",
    "        if i[1].user_id in D_date_6:\n",
    "            D_date_6[i[1].user_id] += i[1].txn_count\n",
    "        else:\n",
    "            D_date_6[i[1].user_id] = i[1].txn_count\n",
    "    for i in users:\n",
    "        if not i in D_date_6:\n",
    "            D_date_6[i] = 0\n",
    "    mas.append(D_date_6)\n",
    "\n",
    "import stat as st\n",
    "\n",
    "def dispersion(a):\n",
    "    av = np.average(a)\n",
    "    s = 0\n",
    "    for x in a:\n",
    "        s += (x - av) * (x - av)\n",
    "    return s/len(a)\n",
    "\n",
    "Big_dic1 = {}\n",
    "for i in users:\n",
    "    Big_dic1[i] = dispersion([mas[0][i], mas[1][i], mas[2][i], mas[3][i], mas[4][i], mas[5][i], mas[6][i]])"
   ]
  },
  {
   "cell_type": "code",
   "execution_count": 9,
   "metadata": {
    "collapsed": false
   },
   "outputs": [],
   "source": [
    "#дисперсия\n",
    "#Big_dic\n",
    "users = np.unique(np.asarray(money_train.user_id))\n",
    "money_train = pd.read_csv(\"qiwi_money_out_data_train.csv\", encoding='windows-1251',  delimiter=';')\n",
    "Women_profile = pd.read_csv('women_profiles.csv')\n",
    "version_with_sexes = money_train\n",
    "\n",
    "mas = []\n",
    "for j in ['2016-06', '2016-07', '2016-08', '2016-09', '2016-10', '2016-11', '2016-12']:\n",
    "    date_6 = version_with_sexes[version_with_sexes.date_month == j]\n",
    "    D_date_6 = {}\n",
    "    for i in date_6.iterrows():\n",
    "        if i[1].user_id in D_date_6:\n",
    "            D_date_6[i[1].user_id] += i[1].payment\n",
    "        else:\n",
    "            D_date_6[i[1].user_id] = i[1].payment\n",
    "    for i in users:\n",
    "        if not i in D_date_6:\n",
    "            D_date_6[i] = 0\n",
    "    mas.append(D_date_6)\n",
    "\n",
    "import stat as st\n",
    "\n",
    "def dispersion(a):\n",
    "    av = np.average(a)\n",
    "    s = 0\n",
    "    for x in a:\n",
    "        s += (x - av) * (x - av)\n",
    "    return s/len(a)\n",
    "\n",
    "Big_dic = {}\n",
    "for i in users:\n",
    "    Big_dic[i] = dispersion([mas[0][i], mas[1][i], mas[2][i], mas[3][i], mas[4][i], mas[5][i], mas[6][i]])"
   ]
  },
  {
   "cell_type": "code",
   "execution_count": 10,
   "metadata": {
    "collapsed": false
   },
   "outputs": [],
   "source": [
    "# ставим в соответствие человеку вероятность того, что выпускник его университета - мужчина\n",
    "# user_id_to_variety_university - нужный словарь\n",
    "\n",
    "universities = pd.read_csv('qiwi_users_profile_data_train.csv', encoding='windows-1251',  delimiter=';')\n",
    "w_un = {}\n",
    "m_un = {}\n",
    "un = pd.unique(np.asarray(universities.university))\n",
    "un.sort()\n",
    "for i in universities.iterrows():\n",
    "    if i[1].sex=='Жен':\n",
    "        if not i[1].university in m_un:\n",
    "            m_un[i[1].university] = 0\n",
    "        if i[1].university in w_un:\n",
    "            w_un[i[1].university] += 1\n",
    "        else:\n",
    "            w_un[i[1].university] = 1\n",
    "    else:\n",
    "        if not i[1].university in w_un:\n",
    "            w_un[i[1].university] = 0\n",
    "        if i[1].university in m_un:\n",
    "            m_un[i[1].university] += 1\n",
    "        else:\n",
    "            m_un[i[1].university] = 1\n",
    "w_un2 = []\n",
    "for i in w_un.keys():\n",
    "    w_un2.append([i, w_un[i]])\n",
    "m_un2 = []\n",
    "for i in m_un.keys():\n",
    "    m_un2.append([i, m_un[i]])\n",
    "w_un2.sort()\n",
    "m_un2.sort()\n",
    "w_3 = [i[1] for i in w_un2]\n",
    "m_3 = [i[1] for i in m_un2]\n",
    "w_3 = np.array(w_3)\n",
    "m_3 = np.array(m_3, dtype=float)\n",
    "univer_to_variety = {}\n",
    "universities1 = pd.DataFrame({'university': un, 'M' : m_3, 'W' : w_3, 'M/(M+W)': 1. * m_3/(m_3+w_3+0.0)})\n",
    "for i in universities1.iterrows():\n",
    "    univer_to_variety[i[1].university] = i[1]['M/(M+W)']\n",
    "#print (univer_to_variety)\n",
    "\n",
    "\n",
    "user_id_to_variety_university = {}\n",
    "for i in universities.iterrows():\n",
    "    user_id_to_variety_university[i[1].user_id] = univer_to_variety[i[1].university]\n",
    "#print (universities1.sort_values(by = 'M/(M+W)'))\n",
    "#print (user_id_to_variety_university)"
   ]
  },
  {
   "cell_type": "code",
   "execution_count": 11,
   "metadata": {
    "collapsed": true
   },
   "outputs": [],
   "source": [
    "#признак - кол-во транзакций\n",
    "person_to_number_of_transactions = {}\n",
    "for i in money_train.iterrows():\n",
    "    if i[1].user_id in person_to_number_of_transactions:\n",
    "        person_to_number_of_transactions[i[1].user_id] += i[1].txn_count\n",
    "    else:\n",
    "        person_to_number_of_transactions[i[1].user_id] = i[1].txn_count"
   ]
  },
  {
   "cell_type": "code",
   "execution_count": 12,
   "metadata": {
    "collapsed": false
   },
   "outputs": [],
   "source": [
    "# признак - отношение транзакций по топ 2 категорий ко всему кол-ву транзакций\n",
    "users = np.unique(money_train.user_id)\n",
    "dict_2_top = dict.fromkeys(['user_id', 'f8'])  \n",
    "for i in users:\n",
    "    user_data = money_train[money_train['user_id'] == i]\n",
    "    la = user_data.groupby('category')['txn_count'].sum()\n",
    "    la = la.sort_values(ascending=False)\n",
    "    dict_2_top[i] = (1. * np.sum(la[:2]) / np.sum(la))\n",
    "#dict_2_top"
   ]
  },
  {
   "cell_type": "code",
   "execution_count": 13,
   "metadata": {
    "collapsed": false
   },
   "outputs": [],
   "source": [
    "#categroies payments features\n",
    "k = 38\n",
    "categories = money_train['category'].value_counts().keys()\n",
    "category_counts = len(categories)\n",
    "dict_users_buys = {}\n",
    "for ind, row in money_train.iterrows():\n",
    "    people_id = row['user_id']\n",
    "    category_name = row['category']\n",
    "    payment = row['payment']\n",
    "    if (not people_id in dict_users_buys.keys()):\n",
    "        dict_users_buys[people_id] = dict.fromkeys(categories[:k], 0)\n",
    "    if (category_name in dict_users_buys[people_id].keys()):\n",
    "        dict_users_buys[people_id][category_name] += payment \n",
    "category_to_index = {}\n",
    "for i in range(len(categories)):\n",
    "    category_to_index[categories[i]] = i\n",
    "#dict_users_buys"
   ]
  },
  {
   "cell_type": "code",
   "execution_count": 30,
   "metadata": {
    "collapsed": false
   },
   "outputs": [],
   "source": [
    "#create need train data with features for sklearn algorithms\n",
    "h = 3\n",
    "def create_data_train():\n",
    "    trainX = []\n",
    "    trainY = []\n",
    "    for key, value in dict_users_buys.items():\n",
    "        ind = key\n",
    "        grad_year = list(answer_train[answer_train.user_id == ind].graduation_year)[0]\n",
    "        if (list(answer_train[answer_train.user_id == ind].sex)[0] == u'Муж'):\n",
    "            trainY.append(1)\n",
    "        else:\n",
    "            trainY.append(0)\n",
    "        res = []\n",
    "        res.append(person_to_number_of_transactions[ind]) #transactions_count\n",
    "        res.append(dict_2_top[ind]) #top transaction div all transaction\n",
    "        res.append(user_id_to_variety_university[ind])#sex of students after their university\n",
    "        res.append(Big_dic[ind])#dispersia\n",
    "        res.append(Big_dic1[ind])#По txn_count\n",
    "        res.append(user_to_season_txn[ind])\n",
    "        res.append(user_to_season_payment[ind])\n",
    "        res.append(dict_one_payment[ind])\n",
    "        #for i in range(h):\n",
    "        #    res.append(dict_top_money[ind][i]) #most payment categories\n",
    "        for i in categories[:k]:\n",
    "            res.append(value[i]) #categories payments\n",
    "        trainX.append(res)\n",
    "    return trainX, trainY\n",
    "trainX, trainY = create_data_train()"
   ]
  },
  {
   "cell_type": "code",
   "execution_count": 31,
   "metadata": {
    "collapsed": false
   },
   "outputs": [
    {
     "name": "stdout",
     "output_type": "stream",
     "text": [
      "10795\n"
     ]
    }
   ],
   "source": [
    "print(len(trainX))"
   ]
  },
  {
   "cell_type": "code",
   "execution_count": 32,
   "metadata": {
    "collapsed": false
   },
   "outputs": [
    {
     "name": "stdout",
     "output_type": "stream",
     "text": [
      "10795\n"
     ]
    }
   ],
   "source": [
    "def make_data_normalize(trainX):\n",
    "    trainX = np.array(trainX)\n",
    "    m = np.mean(trainX, axis=0)\n",
    "    std = np.std(trainX, axis=0)\n",
    "    trainX = ((trainX - m)  / std)\n",
    "    return trainX\n",
    "#trainX = make_data_normalize(trainX)\n",
    "print(len(trainX))"
   ]
  },
  {
   "cell_type": "code",
   "execution_count": 33,
   "metadata": {
    "collapsed": true
   },
   "outputs": [],
   "source": [
    "train_fitX, train_valX, train_fitY, train_valY = train_test_split(trainX, trainY, test_size=0.15)\n",
    "train_f1X, train_f2X, train_f1Y, train_f2Y = train_test_split(train_fitX, train_fitY, test_size=0.5)"
   ]
  },
  {
   "cell_type": "code",
   "execution_count": 34,
   "metadata": {
    "collapsed": false
   },
   "outputs": [
    {
     "name": "stdout",
     "output_type": "stream",
     "text": [
      "0.790740740741\n",
      "1620\n",
      "1215\n",
      "9175\n",
      "7011\n"
     ]
    }
   ],
   "source": [
    "from sklearn.ensemble import RandomForestClassifier\n",
    "from sklearn.metrics import roc_curve, accuracy_score\n",
    "\n",
    "rfc = RandomForestClassifier(random_state = 241,n_estimators=1000,n_jobs=-1, min_samples_split=1, max_depth=18, \n",
    "                            min_samples_leaf= 3, criterion = 'gini')\n",
    "rfc.fit(train_f1X, train_f1Y)\n",
    "predict_valY = rfc.predict(train_valX)\n",
    "print(accuracy_score(train_valY,predict_valY))\n",
    "print(len(train_valY))\n",
    "print(sum(train_valY))\n",
    "print(len(train_fitX))\n",
    "print(sum(train_fitY))"
   ]
  },
  {
   "cell_type": "code",
   "execution_count": 35,
   "metadata": {
    "collapsed": false
   },
   "outputs": [
    {
     "name": "stdout",
     "output_type": "stream",
     "text": [
      "[4, 1.0, 0.6782608695652174, 11155.102040816328, 0.24489795918367346, 2, 450, 160.0, 0, 0, 640, 0, 0, 0, 0, 0, 0, 0, 0, 0, 0, 0, 0, 0, 0, 0, 0, 0, 0, 0, 0, 0, 0, 0, 0, 0, 0, 0, 0, 0, 0, 0, 0, 0, 0, 0]\n",
      "4588\n"
     ]
    }
   ],
   "source": [
    "print(train_f2X[0])\n",
    "print(len(train_f2X))"
   ]
  },
  {
   "cell_type": "code",
   "execution_count": 36,
   "metadata": {
    "collapsed": false
   },
   "outputs": [],
   "source": [
    "ppp = rfc.predict_proba(train_f2X)\n",
    "for i in range(len(train_f2X)):\n",
    "    train_f2X[i].append(ppp[i][0])\n",
    "qqq = rfc.predict_proba(train_valX)\n",
    "for i in range(len(train_valX)):\n",
    "    train_valX[i].append(qqq[i][0])"
   ]
  },
  {
   "cell_type": "code",
   "execution_count": 37,
   "metadata": {
    "collapsed": false
   },
   "outputs": [
    {
     "name": "stdout",
     "output_type": "stream",
     "text": [
      "0.797530864198\n",
      "1620\n",
      "1215\n"
     ]
    }
   ],
   "source": [
    "import xgboost\n",
    "from sklearn.metrics import roc_curve, accuracy_score\n",
    "model = xgboost.XGBClassifier()\n",
    "\n",
    "\n",
    "train_f2X = np.array(train_f2X)\n",
    "train_valX = np.array(train_valX)\n",
    "train_f2Y = np.array(train_f2Y)\n",
    "train_valY = np.array(train_valY)\n",
    "\n",
    "\n",
    "model.fit(train_f2X, train_f2Y)\n",
    "predict_valY = model.predict(train_valX)\n",
    "print(accuracy_score(train_valY,predict_valY))\n",
    "print(len(train_valY))\n",
    "print(sum(train_valY))"
   ]
  },
  {
   "cell_type": "code",
   "execution_count": 38,
   "metadata": {
    "collapsed": false
   },
   "outputs": [
    {
     "data": {
      "image/png": "[encoded data removed]",
      "text/plain": [
       "<matplotlib.figure.Figure at 0x7efe8abb6d68>"
      ]
     },
     "metadata": {},
     "output_type": "display_data"
    }
   ],
   "source": [
    "from matplotlib import pyplot as plt\n",
    "%matplotlib inline\n",
    "fpr,tpr,_ = roc_curve(train_valY,model.predict_proba(train_valX)[:,1])\n",
    "plt.plot(1-fpr,tpr)\n",
    "fpr,tpr,_ = roc_curve(train_f2Y,model.predict_proba(train_f2X)[:,1])\n",
    "plt.plot(1-fpr,tpr)\n",
    "plt.savefig('results_rfc_ans.png')"
   ]
  },
  {
   "cell_type": "code",
   "execution_count": null,
   "metadata": {
    "collapsed": true
   },
   "outputs": [],
   "source": [
    "money_train = pd.read_csv(\"qiwi_money_out_data_train.csv\", encoding='windows-1251',  delimiter=';')\n",
    "money_train[:3]\n",
    "users = np.unique(np.asarray(money_train.user_id))\n",
    "user_to_season_txn = {}\n",
    "user_to_season_payment = {}\n",
    "\n",
    "for i in money_train.iterrows():\n",
    "    if i[1].date_month == '2016-06' or i[1].date_month == '2016-07' or i[1].date_month == '2016-08':\n",
    "        if i[1].user_id in user_to_season_txn:\n",
    "            user_to_season_txn[i[1].user_id] += i[1].txn_count\n",
    "            user_to_season_payment[i[1].user_id] += i[1].payment\n",
    "        else:\n",
    "            user_to_season_txn[i[1].user_id] = i[1].txn_count\n",
    "            user_to_season_payment[i[1].user_id] = i[1].payment\n",
    "    else:\n",
    "        if  not (i[1].user_id in user_to_season_txn):\n",
    "            user_to_season_txn[i[1].user_id] = 0\n",
    "            user_to_season_payment[i[1].user_id] = 0"
   ]
  },
  {
   "cell_type": "code",
   "execution_count": null,
   "metadata": {
    "collapsed": true
   },
   "outputs": [],
   "source": [
    "money_train = pd.read_csv(\"qiwi_money_out_data_train.csv\", encoding='windows-1251',  delimiter=';')\n",
    "dict_one_payment = dict.fromkeys(['user_id', 'f6'])\n",
    "\n",
    "for i in users:\n",
    "    user = money_train[money_train['user_id'] == i]\n",
    "    dict_one_payment[i] = np.average(user.payment / user.txn_count)"
   ]
  },
  {
   "cell_type": "code",
   "execution_count": null,
   "metadata": {
    "collapsed": true
   },
   "outputs": [],
   "source": [
    "k = 38\n",
    "categories = money_test['category'].value_counts().keys()\n",
    "category_counts = len(categories)\n",
    "dict_users_buys = {}\n",
    "for ind, row in money_test.iterrows():\n",
    "    people_id = row['user_id']\n",
    "    category_name = row['category']\n",
    "    payment = row['payment']\n",
    "    if (not people_id in dict_users_buys.keys()):\n",
    "        dict_users_buys[people_id] = dict.fromkeys(categories[:k], 0)\n",
    "    if (category_name in dict_users_buys[people_id].keys()):\n",
    "        dict_users_buys[people_id][category_name] += payment \n",
    "category_to_index = {}\n",
    "for i in range(len(categories)):\n",
    "    category_to_index[categories[i]] = i"
   ]
  },
  {
   "cell_type": "code",
   "execution_count": null,
   "metadata": {
    "collapsed": true
   },
   "outputs": [],
   "source": [
    "X = []\n",
    "Y = []\n",
    "for key, value in dict_users_buys.items():\n",
    "    ind = key\n",
    "    grad_year = list(answer_test[answer_test.user_id == ind].graduation_year)[0]\n",
    "    if (list(answer_test[answer_test.user_id == ind].sex)[0] == u'Муж'):\n",
    "        Y.append(1)\n",
    "    else:\n",
    "        Y.append(0)\n",
    "    res = []\n",
    "    res.append(person_to_number_of_transactions[ind]) #transactions_count\n",
    "    res.append(dict_2_top[ind]) #top transaction div all transaction\n",
    "    res.append(user_id_to_variety_university[ind])#sex of students after their university\n",
    "    res.append(Big_dic[ind])#dispersia\n",
    "    res.append(Big_dic1[ind])#По txn_count\n",
    "    res.append(user_to_season_txn[ind])\n",
    "    res.append(user_to_season_payment[ind])\n",
    "    res.append(dict_one_payment[ind])\n",
    "    #for i in range(h):\n",
    "    #    res.append(dict_top_money[ind][i]) #most payment categories\n",
    "    for i in categories[:k]:\n",
    "        res.append(value[i]) #categories payments\n",
    "    X.append(res)"
   ]
  },
  {
   "cell_type": "code",
   "execution_count": null,
   "metadata": {
    "collapsed": false
   },
   "outputs": [],
   "source": []
  },
  {
   "cell_type": "code",
   "execution_count": null,
   "metadata": {
    "collapsed": true
   },
   "outputs": [],
   "source": []
  },
  {
   "cell_type": "code",
   "execution_count": null,
   "metadata": {
    "collapsed": false
   },
   "outputs": [
    {
     "name": "stdout",
     "output_type": "stream",
     "text": [
      "10795\n"
     ]
    }
   ],
   "source": [
    "def make_data_normalize(trainX):\n",
    "    trainX = np.array(trainX)\n",
    "    m = np.mean(trainX, axis=0)\n",
    "    std = np.std(trainX, axis=0)\n",
    "    trainX = ((trainX - m)  / std)\n",
    "    return trainX\n",
    "trainX = make_data_normalize(trainX)\n",
    "print(len(trainX))"
   ]
  },
  {
   "cell_type": "code",
   "execution_count": null,
   "metadata": {
    "collapsed": false
   },
   "outputs": [],
   "source": [
    "#and additional priznak from LogisticRegression\n",
    "from sklearn.linear_model import LogisticRegression\n",
    "train_fitX, train_valX, train_fitY, train_valY = train_test_split(trainX, trainY, test_size=0.10,random_state=472)\n",
    "tree = LogisticRegression()\n",
    "tree.fit(train_fitX, train_fitY)\n",
    "predict_valY = tree.predict(train_valX)\n",
    "fpr,tpr,_ = roc_curve(train_valY,rfc.predict_proba(train_valX)[:,1])\n",
    "plt.plot(1-fpr,tpr)\n",
    "fpr,tpr,_ = roc_curve(train_fitY,rfc.predict_proba(train_fitX)[:,1])\n",
    "plt.plot(1-fpr,tpr)\n",
    "plt.savefig('results_tree.png')\n",
    "def update_data_train_with_tree(trainX):\n",
    "    for i in trainX:\n",
    "        predict = tree.predict_proba(i)\n",
    "        i.append(predict)\n",
    "    return trainX\n",
    "trainX = update_data_train_with_tree(trainX)"
   ]
  },
  {
   "cell_type": "code",
   "execution_count": null,
   "metadata": {
    "collapsed": false
   },
   "outputs": [],
   "source": [
    "from sklearn.ensemble import RandomForestClassifier\n",
    "from sklearn.metrics import roc_curve, accuracy_score\n",
    "\n",
    "rfc = RandomForestClassifier(random_state = 241,n_estimators=1000,n_jobs=-1, min_samples_split=1, max_depth=18, \n",
    "                            min_samples_leaf= 3, criterion = 'gini')\n",
    "train_fitX, train_valX, train_fitY, train_valY = train_test_split(trainX, trainY, test_size=0.07,random_state=111)\n",
    "#train_fitX, train_fitY = make_data_balanced(train_fitX, train_fitY)\n",
    "rfc.fit(train_fitX, train_fitY)\n",
    "predict_valY = rfc.predict(train_valX)\n",
    "print(accuracy_score(train_valY,predict_valY))\n",
    "print(len(train_valY))\n",
    "print(sum(train_valY))\n",
    "print(len(train_fitX))\n",
    "print(sum(train_fitY))"
   ]
  },
  {
   "cell_type": "code",
   "execution_count": null,
   "metadata": {
    "collapsed": true
   },
   "outputs": [],
   "source": []
  },
  {
   "cell_type": "code",
   "execution_count": 18,
   "metadata": {
    "collapsed": false
   },
   "outputs": [],
   "source": [
    "from sklearn.ensemble import RandomForestClassifier\n",
    "from sklearn.metrics import roc_curve, accuracy_score\n",
    "\n",
    "\n",
    "train_X_part_1, test_X_part_3, train_Y_part_1, test_Y_part_3 = train_test_split(trainX, trainY, test_size=0.3, random_state=111)\n",
    "train_X_part_1, train_X_part_2, train_Y_part_1, train_Y_part_2 = train_test_split(train_X_part_1, train_Y_part_1, test_size=0.5, random_state=111)"
   ]
  },
  {
   "cell_type": "code",
   "execution_count": null,
   "metadata": {
    "collapsed": false
   },
   "outputs": [],
   "source": []
  },
  {
   "cell_type": "code",
   "execution_count": null,
   "metadata": {
    "collapsed": false
   },
   "outputs": [],
   "source": []
  },
  {
   "cell_type": "code",
   "execution_count": null,
   "metadata": {
    "collapsed": false
   },
   "outputs": [],
   "source": []
  },
  {
   "cell_type": "code",
   "execution_count": null,
   "metadata": {
    "collapsed": false
   },
   "outputs": [],
   "source": []
  },
  {
   "cell_type": "code",
   "execution_count": null,
   "metadata": {
    "collapsed": false
   },
   "outputs": [],
   "source": [
    "from matplotlib import pyplot as plt\n",
    "%matplotlib inline\n",
    "fpr,tpr,_ = roc_curve(train_valY,rfc.predict_proba(train_valX)[:,1])\n",
    "plt.plot(1-fpr,tpr)\n",
    "fpr,tpr,_ = roc_curve(train_fitY,rfc.predict_proba(train_fitX)[:,1])\n",
    "plt.plot(1-fpr,tpr)\n",
    "plt.savefig('results_rfc.png')"
   ]
  },
  {
   "cell_type": "code",
   "execution_count": null,
   "metadata": {
    "collapsed": false
   },
   "outputs": [],
   "source": [
    "rfc.feature_importances_"
   ]
  },
  {
   "cell_type": "code",
   "execution_count": null,
   "metadata": {
    "collapsed": true
   },
   "outputs": [],
   "source": [
    "trainX_age = []\n",
    "trainY_age = []\n",
    "answer_train_without_NaNs = answer_train.dropna()\n",
    "for key, value in dict_users_buys.items():\n",
    "    indY = key\n",
    "    try:\n",
    "        grad_year = list(answer_train_without_NaNs[answer_train_without_NaNs.user_id == indY].graduation_year)[0]\n",
    "        trainY.append((list(answer_train_without_NaNs[answer_train_without_NaNs.user_id == indY].age)[0]) // 10)\n",
    "        res = [grad_year]\n",
    "        res.append(person_to_number_of_transactions[ind]) #transactions_count\n",
    "        res.append(dict_2_top[ind]) #top transaction div all transaction\n",
    "        res.append(user_id_to_variety_university[ind])#sex of students after their university\n",
    "        res.append(Big_dic[ind])#dispersia\n",
    "        res.append(Big_dic1[ind])#По txn_count\n",
    "        res.append(user_to_season_txn[ind])\n",
    "        res.append(user_to_season_payment[ind])\n",
    "        for i in categories[:k]:\n",
    "            res.append(value[i])\n",
    "        trainX.append(res)\n",
    "    except:\n",
    "        IndexError"
   ]
  },
  {
   "cell_type": "code",
   "execution_count": 62,
   "metadata": {
    "collapsed": false
   },
   "outputs": [],
   "source": [
    "#Ligistic Regression\n",
    "def get_score_and_clf_regression(k, balanced):\n",
    "    categories = money_train['category'].value_counts().keys()\n",
    "    category_counts = len(categories)\n",
    "    dict_users_buys = {}\n",
    "    for ind, row in money_train.iterrows():\n",
    "        people_id = row['user_id']\n",
    "        category_name = row['category']\n",
    "        payment = row['payment']\n",
    "        if (not people_id in dict_users_buys.keys()):\n",
    "            dict_users_buys[people_id] = dict.fromkeys(categories[:k], 0)\n",
    "        if (category_name in dict_users_buys[people_id].keys()):\n",
    "            dict_users_buys[people_id][category_name] += payment \n",
    "    trainX = []\n",
    "    trainY = []\n",
    "    for key, value in dict_users_buys.items():\n",
    "        indY = key\n",
    "        if (list(answer_train[answer_train.user_id == indY].sex)[0] == u'Муж'):\n",
    "            trainY.append(1)\n",
    "        else:\n",
    "            trainY.append(0)\n",
    "        res = []\n",
    "        for i in categories[:k]:\n",
    "            res.append(value[i])\n",
    "        trainX.append(res)\n",
    "    if (balance):\n",
    "        counter = [0, 0]\n",
    "        trainX_balanced = []\n",
    "        trainY_balanced = []\n",
    "        for i in range(len(trainY)):\n",
    "            if (counter[0] <= counter[1] and trainY[i] == 0 or counter[1] <= counter[0] and trainY[i] == 1):\n",
    "                trainX_balanced.append(trainX[i])\n",
    "                trainY_balanced.append(trainY[i])\n",
    "                counter[trainY[i]] += 1\n",
    "        trainX = trainX_balanced\n",
    "        trainY = trainY_balanced\n",
    "    train_fitX, train_valX, train_fitY, train_valY = train_test_split(trainX, trainY, test_size=0.15,random_state=42)\n",
    "    tree = LogisticRegression()\n",
    "    tree.fit(train_fitX, train_fitY)\n",
    "    predict_valY = tree.predict(train_valX)\n",
    "    return [k, accuracy_score(tree.predict(train_fitX), train_fitY), accuracy_score(predict_valY, train_valY), tree]"
   ]
  },
  {
   "cell_type": "code",
   "execution_count": 12,
   "metadata": {
    "collapsed": false
   },
   "outputs": [],
   "source": [
    "# признак - топ k id categories по деньгам\n",
    "def get_users_categories_payment_top(k):\n",
    "    dict_users_payment = {}\n",
    "    for key, value in dict_users_buys.items():\n",
    "        dict_users_payment[key] = []\n",
    "        for categ, money in value.items():\n",
    "            dict_users_payment[key].append([money, categ])\n",
    "        dict_users_payment[key].sort()\n",
    "        for i in range(len(dict_users_payment[key])):\n",
    "            dict_users_payment[key][i] = category_to_index[dict_users_payment[key][i][1]]\n",
    "        dict_users_payment[key] = dict_users_payment[key][:k]\n",
    "    return dict_users_payment\n",
    "dict_top_money = get_users_categories_payment_top(3)"
   ]
  },
  {
   "cell_type": "code",
   "execution_count": 30,
   "metadata": {
    "collapsed": false
   },
   "outputs": [],
   "source": [
    "#create data balanced\n",
    "def make_data_balanced(trainX, trainY):\n",
    "    counter = [0, 0]\n",
    "    trainX_balanced = []\n",
    "    trainY_balanced = []\n",
    "    for i in range(len(trainY)):\n",
    "        if (counter[0] <= counter[1] and trainY[i] == 0 or counter[1] <= counter[0] and trainY[i] == 1):\n",
    "            trainX_balanced.append(trainX[i])\n",
    "            trainY_balanced.append(trainY[i])\n",
    "            counter[trainY[i]] += 1\n",
    "    trainX = trainX_balanced\n",
    "    trainY = trainY_balanced\n",
    "    return trainX, trainY\n",
    "trainX, trainY = make_data_balanced(trainX, trainY)"
   ]
  },
  {
   "cell_type": "code",
   "execution_count": null,
   "metadata": {
    "collapsed": false
   },
   "outputs": [],
   "source": [
    "regression_result_val = [[], []]\n",
    "regression_result_train = [[], []]\n",
    "for i in range(1, 26):\n",
    "    tmp = get_score(2 * i, True)\n",
    "    regression_result_val[0].append(tmp[0])\n",
    "    regression_result_val[1].append(tmp[2])\n",
    "    regression_result_train[0].append(tmp[0])\n",
    "    regression_result_train[1].append(tmp[1])\n",
    "plt.plot(regression_result_val[0], regression_result_val[1])"
   ]
  },
  {
   "cell_type": "code",
   "execution_count": null,
   "metadata": {
    "collapsed": true
   },
   "outputs": [],
   "source": [
    "#Linear SVC\n",
    "from sklearn.svm import LinearSVC\n",
    "svc = LinearSVC(random_state = 241)\n",
    "train_fitX, train_valX, train_fitY, train_valY = train_test_split(trainX, trainY, test_size=0.15,random_state=42)\n",
    "svc.fit(train_fitX, train_fitY)\n",
    "predict_valY = svc.predict(train_valX)\n",
    "print(accuracy_score(predict_valY, train_valY))\n",
    "print(svc.coef_)\n",
    "print(svc.decision_function)"
   ]
  },
  {
   "cell_type": "code",
   "execution_count": null,
   "metadata": {
    "collapsed": true
   },
   "outputs": [],
   "source": []
  },
  {
   "cell_type": "code",
   "execution_count": null,
   "metadata": {
    "collapsed": false
   },
   "outputs": [],
   "source": []
  },
  {
   "cell_type": "code",
   "execution_count": null,
   "metadata": {
    "collapsed": false
   },
   "outputs": [],
   "source": []
  },
  {
   "cell_type": "code",
   "execution_count": null,
   "metadata": {
    "collapsed": true
   },
   "outputs": [],
   "source": [
    "def getDispersion(df):\n",
    "    #дисперсия\n",
    "    #Big_dic\n",
    "    users = np.unique(np.asarray(money_train.user_id))\n",
    "    money_train = pd.read_csv(\"qiwi_money_out_data_test.csv\", encoding='windows-1251',  delimiter=';')\n",
    "    Women_profile = pd.read_csv('women_profiles.csv')\n",
    "    version_with_sexes = money_train\n",
    "\n",
    "    mas = []\n",
    "    for j in ['2016-06', '2016-07', '2016-08', '2016-09', '2016-10', '2016-11', '2016-12']:\n",
    "        date_6 = version_with_sexes[version_with_sexes.date_month == j]\n",
    "        D_date_6 = {}\n",
    "        for i in date_6.iterrows():\n",
    "            if i[1].user_id in D_date_6:\n",
    "                D_date_6[i[1].user_id] += i[1].txn_count\n",
    "            else:\n",
    "                D_date_6[i[1].user_id] = i[1].txn_count\n",
    "        for i in users:\n",
    "            if not i in D_date_6:\n",
    "                D_date_6[i] = 0\n",
    "        mas.append(D_date_6)\n",
    "\n",
    "    import stat as st\n",
    "\n",
    "    def dispersion(a):\n",
    "        av = np.average(a)\n",
    "        s = 0\n",
    "        for x in a:\n",
    "            s += (x - av) * (x - av)\n",
    "        return s/len(a)\n",
    "\n",
    "    Big_dic1 = {}\n",
    "    for i in users:\n",
    "        Big_dic1[i] = dispersion([mas[0][i], mas[1][i], mas[2][i], mas[3][i], mas[4][i], mas[5][i], mas[6][i]])"
   ]
  },
  {
   "cell_type": "code",
   "execution_count": null,
   "metadata": {
    "collapsed": true
   },
   "outputs": [],
   "source": []
  }
 ],
 "metadata": {
  "anaconda-cloud": {},
  "kernelspec": {
   "display_name": "Python [conda root]",
   "language": "python",
   "name": "conda-root-py"
  },
  "language_info": {
   "codemirror_mode": {
    "name": "ipython",
    "version": 3
   },
   "file_extension": ".py",
   "mimetype": "text/x-python",
   "name": "python",
   "nbconvert_exporter": "python",
   "pygments_lexer": "ipython3",
   "version": "3.5.2"
  }
 },
 "nbformat": 4,
 "nbformat_minor": 0
}
